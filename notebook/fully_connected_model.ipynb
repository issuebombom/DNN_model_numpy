{
 "cells": [
  {
   "cell_type": "markdown",
   "id": "13d88ea6",
   "metadata": {},
   "source": [
    "# Numpy를 활용한 DNN 구현\n",
    "\n",
    "## Introduction\n",
    "Deep Neural Network의 기본 구조와 작동 방식에 대해 살펴보면서 이해한 과정을 코드로 구현한 레포지토리 입니다. 데이터 로드와 시각화를 제외한 모델 구현에 있어 numpy 라이브러리만 사용하였습니다.\n",
    "\n",
    "\n",
    "## Implement\n",
    "Task: Classification  \n",
    "Preprocess: MNIST Datasets  \n",
    "Architecture: 4 Fully-Connected Layers ( 784, 128, 64, 10 )  \n",
    "Activation Function: ReLU, Leaky ReLU, Sigmoid, Softmax  \n",
    "Loss Function: MSE, Categorical Cross Entropy  \n",
    "Evaluation Metric: Accuracy, Precision, Recall  \n",
    "Optimizer: Adam, SGD(Mini-batch)\n",
    "\n",
    "## Requirements\n",
    "python 3.8.16  \n",
    "numpy, OmegaConf, matplotlib, tqdm  \n",
    "**reqirements.txt 참조\n",
    "\n",
    "\n"
   ]
  },
  {
   "cell_type": "markdown",
   "id": "6d8061e7",
   "metadata": {},
   "source": [
    "## Load datasets & preprocess"
   ]
  },
  {
   "cell_type": "markdown",
   "id": "3fadb336",
   "metadata": {},
   "source": [
    "**jupyter에서는 tensorflow에서 MNIST를 load했으므로 tensorflow의 설치가 요구됩니다.**"
   ]
  },
  {
   "cell_type": "code",
   "execution_count": 1,
   "id": "1af29972",
   "metadata": {
    "ExecuteTime": {
     "end_time": "2023-02-15T08:07:59.884087Z",
     "start_time": "2023-02-15T08:07:50.528044Z"
    }
   },
   "outputs": [],
   "source": [
    "from tensorflow.keras.datasets.mnist import load_data\n",
    "from omegaconf import OmegaConf\n",
    "from tqdm.notebook import tqdm\n",
    "import numpy as np\n",
    "import matplotlib.pyplot as plt"
   ]
  },
  {
   "cell_type": "markdown",
   "id": "85928512",
   "metadata": {},
   "source": [
    "### Load MNIST datasets"
   ]
  },
  {
   "cell_type": "code",
   "execution_count": 2,
   "id": "4112b9b1",
   "metadata": {
    "ExecuteTime": {
     "end_time": "2023-02-15T08:08:01.401901Z",
     "start_time": "2023-02-15T08:08:01.063331Z"
    }
   },
   "outputs": [],
   "source": [
    "# Load MNIST datasets\n",
    "train_set, test_set = load_data(path='mnist.npz')\n",
    "\n",
    "train_data, train_labels = train_set\n",
    "test_data, test_labels = test_set"
   ]
  },
  {
   "cell_type": "code",
   "execution_count": 3,
   "id": "7fb74ae9",
   "metadata": {
    "ExecuteTime": {
     "end_time": "2023-02-15T08:08:02.050915Z",
     "start_time": "2023-02-15T08:08:02.039422Z"
    }
   },
   "outputs": [
    {
     "data": {
      "text/plain": [
       "((60000, 28, 28), (60000,))"
      ]
     },
     "execution_count": 3,
     "metadata": {},
     "output_type": "execute_result"
    }
   ],
   "source": [
    "train_data.shape, train_labels.shape"
   ]
  },
  {
   "cell_type": "markdown",
   "id": "dc98759a",
   "metadata": {},
   "source": [
    "### Apply labels to one-hot encoder"
   ]
  },
  {
   "cell_type": "code",
   "execution_count": 4,
   "id": "55f6fe75",
   "metadata": {
    "ExecuteTime": {
     "end_time": "2023-02-15T08:08:03.385516Z",
     "start_time": "2023-02-15T08:08:03.378399Z"
    }
   },
   "outputs": [
    {
     "data": {
      "text/plain": [
       "array([5, 0, 4, 1, 9, 2, 1, 3, 1, 4], dtype=uint8)"
      ]
     },
     "execution_count": 4,
     "metadata": {},
     "output_type": "execute_result"
    }
   ],
   "source": [
    "train_labels[:10]"
   ]
  },
  {
   "cell_type": "code",
   "execution_count": 5,
   "id": "724723c9",
   "metadata": {
    "ExecuteTime": {
     "end_time": "2023-02-15T08:08:07.247708Z",
     "start_time": "2023-02-15T08:08:07.045630Z"
    }
   },
   "outputs": [
    {
     "data": {
      "text/plain": [
       "array([[0, 0, 0, 0, 0, 1, 0, 0, 0, 0],\n",
       "       [1, 0, 0, 0, 0, 0, 0, 0, 0, 0],\n",
       "       [0, 0, 0, 0, 1, 0, 0, 0, 0, 0],\n",
       "       [0, 1, 0, 0, 0, 0, 0, 0, 0, 0],\n",
       "       [0, 0, 0, 0, 0, 0, 0, 0, 0, 1],\n",
       "       [0, 0, 1, 0, 0, 0, 0, 0, 0, 0],\n",
       "       [0, 1, 0, 0, 0, 0, 0, 0, 0, 0],\n",
       "       [0, 0, 0, 1, 0, 0, 0, 0, 0, 0],\n",
       "       [0, 1, 0, 0, 0, 0, 0, 0, 0, 0],\n",
       "       [0, 0, 0, 0, 1, 0, 0, 0, 0, 0]])"
      ]
     },
     "execution_count": 5,
     "metadata": {},
     "output_type": "execute_result"
    }
   ],
   "source": [
    "# 원 핫 인코더\n",
    "def one_hot_encoder(num_labels, labels:list):\n",
    "    result = []\n",
    "    for label in labels:\n",
    "        one_hot = [0] * num_labels\n",
    "        one_hot[label] = 1\n",
    "        result.append(one_hot)\n",
    "    return np.array(result)\n",
    "\n",
    "train_labels = one_hot_encoder(10, train_labels)\n",
    "test_labels = one_hot_encoder(10, test_labels)\n",
    "train_labels[:10]"
   ]
  },
  {
   "cell_type": "markdown",
   "id": "aca5ca2d",
   "metadata": {},
   "source": [
    "### Reshape dimensions 28 by 28 to 784"
   ]
  },
  {
   "cell_type": "code",
   "execution_count": 6,
   "id": "391727bc",
   "metadata": {
    "ExecuteTime": {
     "end_time": "2023-02-15T08:08:10.097275Z",
     "start_time": "2023-02-15T08:08:10.083213Z"
    }
   },
   "outputs": [
    {
     "data": {
      "text/plain": [
       "array([[0, 0, 0, ..., 0, 0, 0],\n",
       "       [0, 0, 0, ..., 0, 0, 0],\n",
       "       [0, 0, 0, ..., 0, 0, 0],\n",
       "       ...,\n",
       "       [0, 0, 0, ..., 0, 0, 0],\n",
       "       [0, 0, 0, ..., 0, 0, 0],\n",
       "       [0, 0, 0, ..., 0, 0, 0]], dtype=uint8)"
      ]
     },
     "execution_count": 6,
     "metadata": {},
     "output_type": "execute_result"
    }
   ],
   "source": [
    "train_data = train_data.reshape(-1, 28*28)\n",
    "test_data = test_data.reshape(-1, 28*28)\n",
    "train_data[:10]"
   ]
  },
  {
   "cell_type": "markdown",
   "id": "c65c85c7",
   "metadata": {},
   "source": [
    "### Normalize"
   ]
  },
  {
   "cell_type": "code",
   "execution_count": 7,
   "id": "e6a4878b",
   "metadata": {
    "ExecuteTime": {
     "end_time": "2023-02-15T08:08:12.750375Z",
     "start_time": "2023-02-15T08:08:12.142132Z"
    }
   },
   "outputs": [],
   "source": [
    "# normalize\n",
    "train_data = train_data / 255\n",
    "test_data = test_data / 255"
   ]
  },
  {
   "cell_type": "code",
   "execution_count": 8,
   "id": "8bf50f80",
   "metadata": {
    "ExecuteTime": {
     "end_time": "2023-02-15T08:08:12.798506Z",
     "start_time": "2023-02-15T08:08:12.789130Z"
    }
   },
   "outputs": [
    {
     "data": {
      "text/plain": [
       "((60000, 784), (60000, 10), (10000, 784), (10000, 10))"
      ]
     },
     "execution_count": 8,
     "metadata": {},
     "output_type": "execute_result"
    }
   ],
   "source": [
    "train_data.shape, train_labels.shape, test_data.shape, test_labels.shape"
   ]
  },
  {
   "cell_type": "markdown",
   "id": "6d821467",
   "metadata": {},
   "source": [
    "### Visualize dataset"
   ]
  },
  {
   "cell_type": "code",
   "execution_count": 9,
   "id": "38a461df",
   "metadata": {
    "ExecuteTime": {
     "end_time": "2023-02-15T08:08:13.906389Z",
     "start_time": "2023-02-15T08:08:13.716986Z"
    }
   },
   "outputs": [
    {
     "name": "stdout",
     "output_type": "stream",
     "text": [
      "Answer: 5\n"
     ]
    },
    {
     "data": {
      "image/png": "[encoded data removed]",
      "text/plain": [
       "<Figure size 432x288 with 1 Axes>"
      ]
     },
     "metadata": {
      "needs_background": "light"
     },
     "output_type": "display_data"
    }
   ],
   "source": [
    "n = 2363\n",
    "plt.imshow(train_data[n].reshape(28, 28))\n",
    "print(f\"Answer: {np.argmax(train_labels[n])}\")"
   ]
  },
  {
   "cell_type": "markdown",
   "id": "682bbab3",
   "metadata": {},
   "source": [
    "---"
   ]
  },
  {
   "cell_type": "markdown",
   "id": "3b27f4fa",
   "metadata": {},
   "source": [
    "## Implement Fully-Connected layer model"
   ]
  },
  {
   "cell_type": "code",
   "execution_count": 10,
   "id": "c4b1a32f",
   "metadata": {
    "ExecuteTime": {
     "end_time": "2023-02-15T08:08:19.162098Z",
     "start_time": "2023-02-15T08:08:19.146924Z"
    }
   },
   "outputs": [
    {
     "name": "stdout",
     "output_type": "stream",
     "text": [
      "Config details:\n",
      "====================\n",
      "\n",
      "activation_fn:\n",
      "- leaky_relu\n",
      "- softmax\n",
      "batch_size: 128\n",
      "epoch: 10\n",
      "eval_metric: f1_score\n",
      "init_fn: he_normal\n",
      "loss_fn: categorical_cross_entropy\n",
      "model:\n",
      "- 784\n",
      "- 128\n",
      "- 64\n",
      "- 10\n",
      "optim: Adam\n",
      "optim_args:\n",
      "  epsilon: 1.0e-08\n",
      "  lr: 0.001\n",
      "seed: 1234\n",
      "shuffle: true\n",
      "val_size: 0.1\n",
      "====================\n",
      "\n"
     ]
    }
   ],
   "source": [
    "# load config\n",
    "config = OmegaConf.load('config.yaml')\n",
    "\n",
    "# fix data if you need...\n",
    "config.eval_metric = 'f1_score'\n",
    "config.epoch = 10\n",
    "\n",
    "# show details\n",
    "print(f\"Config details:\\n{'='*20}\\n\\n{OmegaConf.to_yaml(config)}{'='*20}\", end=\"\\n\\n\")"
   ]
  },
  {
   "cell_type": "code",
   "execution_count": 14,
   "id": "d6b3cc4d",
   "metadata": {
    "ExecuteTime": {
     "end_time": "2023-02-15T09:05:33.944003Z",
     "start_time": "2023-02-15T08:56:01.427547Z"
    },
    "scrolled": false
   },
   "outputs": [
    {
     "name": "stdout",
     "output_type": "stream",
     "text": [
      "Config details:\n",
      "====================\n",
      "\n",
      "activation_fn:\n",
      "- leaky_relu\n",
      "- softmax\n",
      "batch_size: 128\n",
      "epoch: 10\n",
      "eval_metric: f1_score\n",
      "init_fn: he_normal\n",
      "loss_fn: categorical_cross_entropy\n",
      "model:\n",
      "- 784\n",
      "- 128\n",
      "- 64\n",
      "- 10\n",
      "optim: Adam\n",
      "optim_args:\n",
      "  epsilon: 1.0e-08\n",
      "  lr: 0.001\n",
      "seed: 1234\n",
      "shuffle: true\n",
      "val_size: 0.1\n",
      "====================\n",
      "\n"
     ]
    },
    {
     "data": {
      "application/vnd.jupyter.widget-view+json": {
       "model_id": "",
       "version_major": 2,
       "version_minor": 0
      },
      "text/plain": [
       "  0%|          | 0/421 [00:00<?, ?it/s]"
      ]
     },
     "metadata": {},
     "output_type": "display_data"
    },
    {
     "name": "stdout",
     "output_type": "stream",
     "text": [
      "001 Epoch | train_loss: 1.323524 | val_loss: 1.100757 | val_score: 0.964366\n"
     ]
    },
    {
     "data": {
      "application/vnd.jupyter.widget-view+json": {
       "model_id": "",
       "version_major": 2,
       "version_minor": 0
      },
      "text/plain": [
       "  0%|          | 0/421 [00:00<?, ?it/s]"
      ]
     },
     "metadata": {},
     "output_type": "display_data"
    },
    {
     "name": "stdout",
     "output_type": "stream",
     "text": [
      "002 Epoch | train_loss: 0.867951 | val_loss: 0.793477 | val_score: 0.970201\n"
     ]
    },
    {
     "data": {
      "application/vnd.jupyter.widget-view+json": {
       "model_id": "",
       "version_major": 2,
       "version_minor": 0
      },
      "text/plain": [
       "  0%|          | 0/421 [00:00<?, ?it/s]"
      ]
     },
     "metadata": {},
     "output_type": "display_data"
    },
    {
     "name": "stdout",
     "output_type": "stream",
     "text": [
      "003 Epoch | train_loss: 0.647986 | val_loss: 0.657140 | val_score: 0.973631\n"
     ]
    },
    {
     "data": {
      "application/vnd.jupyter.widget-view+json": {
       "model_id": "",
       "version_major": 2,
       "version_minor": 0
      },
      "text/plain": [
       "  0%|          | 0/421 [00:00<?, ?it/s]"
      ]
     },
     "metadata": {},
     "output_type": "display_data"
    },
    {
     "name": "stdout",
     "output_type": "stream",
     "text": [
      "004 Epoch | train_loss: 0.501534 | val_loss: 0.568275 | val_score: 0.976416\n"
     ]
    },
    {
     "data": {
      "application/vnd.jupyter.widget-view+json": {
       "model_id": "",
       "version_major": 2,
       "version_minor": 0
      },
      "text/plain": [
       "  0%|          | 0/421 [00:00<?, ?it/s]"
      ]
     },
     "metadata": {},
     "output_type": "display_data"
    },
    {
     "name": "stdout",
     "output_type": "stream",
     "text": [
      "005 Epoch | train_loss: 0.396888 | val_loss: 0.511635 | val_score: 0.977932\n"
     ]
    },
    {
     "data": {
      "application/vnd.jupyter.widget-view+json": {
       "model_id": "",
       "version_major": 2,
       "version_minor": 0
      },
      "text/plain": [
       "  0%|          | 0/421 [00:00<?, ?it/s]"
      ]
     },
     "metadata": {},
     "output_type": "display_data"
    },
    {
     "name": "stdout",
     "output_type": "stream",
     "text": [
      "006 Epoch | train_loss: 0.311482 | val_loss: 0.474995 | val_score: 0.978269\n"
     ]
    },
    {
     "data": {
      "application/vnd.jupyter.widget-view+json": {
       "model_id": "",
       "version_major": 2,
       "version_minor": 0
      },
      "text/plain": [
       "  0%|          | 0/421 [00:00<?, ?it/s]"
      ]
     },
     "metadata": {},
     "output_type": "display_data"
    },
    {
     "name": "stdout",
     "output_type": "stream",
     "text": [
      "007 Epoch | train_loss: 0.278669 | val_loss: 0.467921 | val_score: 0.977695\n"
     ]
    },
    {
     "data": {
      "application/vnd.jupyter.widget-view+json": {
       "model_id": "",
       "version_major": 2,
       "version_minor": 0
      },
      "text/plain": [
       "  0%|          | 0/421 [00:00<?, ?it/s]"
      ]
     },
     "metadata": {},
     "output_type": "display_data"
    },
    {
     "name": "stdout",
     "output_type": "stream",
     "text": [
      "008 Epoch | train_loss: 0.261157 | val_loss: 0.474305 | val_score: 0.976674\n"
     ]
    },
    {
     "data": {
      "application/vnd.jupyter.widget-view+json": {
       "model_id": "",
       "version_major": 2,
       "version_minor": 0
      },
      "text/plain": [
       "  0%|          | 0/421 [00:00<?, ?it/s]"
      ]
     },
     "metadata": {},
     "output_type": "display_data"
    },
    {
     "name": "stdout",
     "output_type": "stream",
     "text": [
      "009 Epoch | train_loss: 0.240638 | val_loss: 0.469799 | val_score: 0.976566\n"
     ]
    },
    {
     "data": {
      "application/vnd.jupyter.widget-view+json": {
       "model_id": "",
       "version_major": 2,
       "version_minor": 0
      },
      "text/plain": [
       "  0%|          | 0/421 [00:00<?, ?it/s]"
      ]
     },
     "metadata": {},
     "output_type": "display_data"
    },
    {
     "name": "stdout",
     "output_type": "stream",
     "text": [
      "010 Epoch | train_loss: 0.189424 | val_loss: 0.449831 | val_score: 0.975442\n"
     ]
    },
    {
     "data": {
      "image/png": "[encoded data removed]",
      "text/plain": [
       "<Figure size 1080x360 with 2 Axes>"
      ]
     },
     "metadata": {
      "needs_background": "light"
     },
     "output_type": "display_data"
    }
   ],
   "source": [
    "from tensorflow.keras.datasets.mnist import load_data\n",
    "from omegaconf import OmegaConf\n",
    "from tqdm.notebook import tqdm\n",
    "import matplotlib.pyplot as plt\n",
    "import numpy as np\n",
    "\n",
    "# DataLoader\n",
    "def shuffle_data(X, Y):\n",
    "    \"\"\"Data와 Label을 concat 후 shuffle -> Data, Label 분리\n",
    "    \"\"\"\n",
    "    \n",
    "    concat = np.concatenate((X, Y), axis=1)\n",
    "    np.random.shuffle(concat)\n",
    "\n",
    "    X = concat[:, :-Y.shape[1]]\n",
    "    Y = concat[:, -Y.shape[1]:]\n",
    "\n",
    "    return X, Y\n",
    "\n",
    "\n",
    "def one_hot_encoder(num_labels, labels:list):\n",
    "    \"\"\"One_hot_encoder\n",
    "    \"\"\"\n",
    "    \n",
    "    result = []\n",
    "    for label in labels:\n",
    "        one_hot = [0] * num_labels\n",
    "        one_hot[label] = 1\n",
    "        result.append(one_hot)\n",
    "    return np.array(result)\n",
    "\n",
    "\n",
    "def train_validation_split(X, Y, val_size, seed=None, shuffle=False):\n",
    "    \"\"\"train_validation_split\n",
    "    \n",
    "    batch단위 split에서 데이터 셔플링을 진행하므로\n",
    "    train_val_split 단계에서는 suffle=False를 Default로 설정\n",
    "    \"\"\"\n",
    "    \n",
    "    np.random.seed(seed)\n",
    "    \n",
    "    if shuffle:\n",
    "        X, Y = shuffle_data(X, Y)\n",
    "    \n",
    "    boundary = int(X.shape[0] * (1-val_size))\n",
    "\n",
    "    X_train = X[:boundary]\n",
    "    Y_train = Y[:boundary]\n",
    "    X_val = X[boundary:]\n",
    "    Y_val = Y[boundary:]\n",
    "    \n",
    "    return X_train, Y_train, X_val, Y_val\n",
    "\n",
    "\n",
    "def split_into_batches(X, Y, batch_size, drop=True, seed=None, shuffle=True):\n",
    "    \"\"\"batch size 단위로 데이터를 reshape합니다.\n",
    "    \"\"\"\n",
    "    \n",
    "    np.random.seed(seed)\n",
    "    \n",
    "    if shuffle:\n",
    "        X, Y = shuffle_data(X, Y)\n",
    "    \n",
    "    # batch_size가 딱 맞아 떨어지지 않을 경우\n",
    "    if X.shape[0] % batch_size != 0:\n",
    "        if drop: # 나머지 뒷단의 데이터를 버린다.\n",
    "            num_to_select = X.shape[0] // batch_size * batch_size # 맞아떨어지는 개수\n",
    "            X, Y = X[:num_to_select], Y[:num_to_select]\n",
    "            \n",
    "        else: # 데이터를 추가한다.(랜덤 추출해서)\n",
    "            num_to_fill = (X.shape[0] // batch_size + 1) * batch_size - X.shape[0] # 추가로 필요한 개수\n",
    "            indices_to_add = np.random.choice(range(0, X.shape[0]+1), num_to_fill, replace=False) # 추가할 인덱스 랜덤 선정\n",
    "            X_to_add, Y_to_add = X[indices_to_add], Y[indices_to_add] # 추가할 데이터셋\n",
    "            X, Y = np.concatenate((X, X_to_add)), np.concatenate((Y, Y_to_add)) # 기존 데이터에 추가\n",
    "    \n",
    "    X_batch_datasets = X.reshape(-1, batch_size, X.shape[-1]) # reshape (iter, bs, data)\n",
    "    Y_batch_datasets = Y.reshape(-1, batch_size, Y.shape[-1]) # reshape (iter, bs, labels)\n",
    "    \n",
    "    return X_batch_datasets, Y_batch_datasets\n",
    "\n",
    "\n",
    "# Fully-Connected Model Archetecture\n",
    "class Initializers:\n",
    "    \"\"\"Initializers\n",
    "    \n",
    "    Initializer list:\n",
    "        xavier_normal\n",
    "        he_normal\n",
    "        uniform\n",
    "    \"\"\"\n",
    "    \n",
    "    def __init__(self, fn_name='xavier_normal'):\n",
    "        self.func = getattr(self, fn_name)\n",
    "\n",
    "    \n",
    "    def __str__(self):\n",
    "        return f\"Initialization Function: {self.func.__name__}\"\n",
    "\n",
    "    \n",
    "    def initialize(self, model, seed=None):\n",
    "        \"\"\"initialize weights & biases\n",
    "        \"\"\"\n",
    "        \n",
    "        np.random.seed(seed)\n",
    "        parameters = dict()\n",
    "        layers = len(model)\n",
    "        \n",
    "        for L in range(1, layers): # 1, 2, 3        \n",
    "            weights, biases = self.func(model[L-1], model[L]) # weights & biases\n",
    "            parameters[\"W\" + str(L)] = weights\n",
    "            parameters[\"b\" + str(L)] = biases\n",
    "\n",
    "        return parameters\n",
    "\n",
    "    # randn은 기본적으로 N(0, 1)이지만 분포를 변경하고 싶다면 E + STD * randn을 하면 된다.\n",
    "    def xavier_normal(self, input_n_neurons, output_n_neurons):\n",
    "        \"\"\"Xavier_initializer\n",
    "        \"\"\"\n",
    "\n",
    "        weights = np.random.randn(input_n_neurons, output_n_neurons) * np.sqrt(1 / input_n_neurons)\n",
    "        biases = np.zeros(output_n_neurons)\n",
    "        \n",
    "        return (weights, biases)\n",
    "\n",
    "    def he_normal(self, input_n_neurons, output_n_neurons):\n",
    "        \"\"\"HE initializer\n",
    "        \"\"\"\n",
    "\n",
    "        weights = np.random.randn(input_n_neurons, output_n_neurons) * np.sqrt(2/input_n_neurons)\n",
    "        biases = np.zeros(output_n_neurons)\n",
    "\n",
    "        return (weights, biases)\n",
    "\n",
    "    def uniform(self, input_n_neurons, output_n_neurons):\n",
    "        \"\"\"Uniform initializer\n",
    "        \"\"\"\n",
    "\n",
    "        weights = np.random.uniform(-np.sqrt(6/input_n_neurons), np.sqrt(6/input_n_neurons), size=(input_n_neurons, output_n_neurons))\n",
    "        biases = np.zeros(output_n_neurons)\n",
    "\n",
    "        return (weights, biases)\n",
    "\n",
    "\n",
    "class ActivationFunction:\n",
    "    \"\"\"Activation Function\n",
    "    \n",
    "    Activation list:\n",
    "        leaky_relu\n",
    "        relu\n",
    "        sigmoid\n",
    "        softmax\n",
    "    \"\"\"\n",
    "    \n",
    "    def __init__(self, fn_name:str, derivative=False):\n",
    "        self.func = getattr(self, fn_name)\n",
    "        self.derivative = derivative\n",
    "        \n",
    "    def __call__(self, *args):        \n",
    "        return self.func(*args)    \n",
    "\n",
    "    def __str__(self):\n",
    "        return f\"Activation Function: {self.func.__name__}\"\n",
    "\n",
    "    \n",
    "    def sigmoid(self, x):\n",
    "        \"\"\"Sigmoid\n",
    "        \"\"\"\n",
    "        \n",
    "        if self.derivative():\n",
    "            return (np.exp(-x))/((np.exp(-x)+1)**2)\n",
    "        \n",
    "        return 1/(1 + np.exp(-x))\n",
    "    \n",
    "    def relu(self, x):\n",
    "        \"\"\"ReLU\n",
    "        \"\"\"\n",
    "        \n",
    "        if self.derivative():\n",
    "            def f(x):\n",
    "                return 0 if x < 0 else 1\n",
    "            f = np.vectorize(f)\n",
    "            return f(x)\n",
    "        \n",
    "        return np.maximum(0, x)\n",
    "\n",
    "    def leaky_relu(self, x):\n",
    "        \"\"\"Leaky_ReLU\n",
    "        \"\"\"\n",
    "        \n",
    "        if self.derivative:\n",
    "            def f(x):\n",
    "                return 0.01 if x < 0 else 1\n",
    "            f = np.vectorize(f)\n",
    "            return f(x)\n",
    "            \n",
    "        return np.maximum(0.01*x, x)\n",
    "\n",
    "    def softmax(self, x):\n",
    "        \"\"\"Softmax\n",
    "        \n",
    "        derivative_softmax의 경우 input으로 tuple(prediction, Y)을 받아야 한다.\n",
    "        \"\"\"\n",
    "        \n",
    "        if self.derivative: # Softmax에 대한 Cross Entropy 함수 미분\n",
    "            prediction, Y = x # input으로 tuple(prediction, Y)을 받아야 한다.\n",
    "            return prediction - Y \n",
    "        \n",
    "        def f(x): # np.max는 overflow 방지용\n",
    "            return np.exp(x-np.max(x)) / np.sum(np.exp(x-np.max(x)))\n",
    "\n",
    "\n",
    "        if np.ndim(x) == 1: # 배치 묶음이 아닐 경우 인위적으로 1 배치 생성\n",
    "            x = np.expand_dims(x, axis=0)\n",
    "            return np.array([f(z) for z in x]).squeeze() # 배치 차원 제거\n",
    "\n",
    "        return np.array([f(z) for z in x])\n",
    "\n",
    "    # softmax의 도함수(사용 보류)\n",
    "    def derivative_softmax_with_loss(self, x):\n",
    "        \"\"\"Softmax(z)에서 z에 대한 미분\n",
    "\n",
    "        야코비안 행렬 출력\n",
    "        : 미분 결과가 야코비안 행렬이 될 경우 next step에서의 연산을 위한\n",
    "        reshape를 어떤 방식으로 해야할지 모르겠다.\n",
    "        \"\"\"\n",
    "\n",
    "        results = []\n",
    "        for pred in x: # x = softmax(z)를 의미함\n",
    "\n",
    "            pred_len = pred.shape[-1] # a와 z는 길이가 같다.\n",
    "            single_result = np.zeros((pred_len, pred_len))\n",
    "\n",
    "            for i in range(pred_len):\n",
    "                for j in range(pred_len):\n",
    "\n",
    "                    '''\n",
    "                    if i == j:\n",
    "                        single_result[i][j] = pred[j] * (1-pred[j])\n",
    "                    else:\n",
    "                        single_result[i][j] = -pred[i] * pred[j]\n",
    "                    '''\n",
    "\n",
    "                    delta = 1 if i == j else 0\n",
    "                    single_result[i][j] = pred[i] * (delta - pred[j]) if i==j else 0\n",
    "\n",
    "            results.append(single_result)\n",
    "\n",
    "        return np.array(results)\n",
    "    \n",
    "class LossFunction:\n",
    "    \"\"\"Loss Function\n",
    "    \n",
    "    Function list:\n",
    "        mse\n",
    "        categorical_cross_entropy\n",
    "    \"\"\"\n",
    "    \n",
    "    def __init__(self, fn_name:str):\n",
    "        self.func = getattr(self, fn_name)\n",
    "    \n",
    "    def __call__(self, *args):\n",
    "        return self.func(*args)    \n",
    "\n",
    "    def __str__(self):\n",
    "        return f\"Loss Function: {self.func.__name__}\"\n",
    "        \n",
    "\n",
    "    def mse(self, val_X, val_Y, parameters, activation_fn):\n",
    "        \"\"\"MSE\n",
    "        \"\"\"\n",
    "\n",
    "        prediction, _ = feed_forward(val_X, parameters, activation_fn)\n",
    "        # (x-y)^2의 평균으로 각 row의 loss를 구한 뒤 batch_size 단위의 평균 loss 연산 \n",
    "        return np.mean((prediction - val_Y) ** 2) / 2 # 미분의 편의를 위해 /2 수행\n",
    "\n",
    "    def categorical_cross_entropy(self, val_X, val_Y, parameters, activation_fn):\n",
    "        \"\"\"Catgorical Cross Entoropy\n",
    "        \"\"\"\n",
    "\n",
    "        prediction, _ = feed_forward(val_X, parameters, activation_fn)\n",
    "        return np.mean(-np.sum(prediction * np.log(val_Y+1e-7), axis=1))\n",
    "\n",
    "\n",
    "class Evaluation:\n",
    "    \"\"\"Evaluation\n",
    "    \"\"\"\n",
    "\n",
    "    def __init__(self, fn_name:str):\n",
    "        self.func = getattr(self, fn_name)\n",
    "  \n",
    "    def __call__(self, prediction_indices, target_indices):\n",
    "        return self.func(prediction_indices, target_indices)    \n",
    "\n",
    "    def __str__(self):\n",
    "        return f\"Evaluation Metric: {self.func.__name__}\"\n",
    "    \n",
    "    \n",
    "    def accuracy(self, prediction_indices, target_indices):\n",
    "        \"\"\"Accuracy\n",
    "        \"\"\"\n",
    "\n",
    "        return np.mean(prediction_indices == target_indices)\n",
    "    \n",
    "    def precision(self, prediction_indices, target_indices):\n",
    "        \"\"\"Precision\n",
    "        \"\"\"\n",
    "        \n",
    "        # precision\n",
    "        labels = np.unique(prediction_indices)\n",
    "        score_by_label = np.zeros((len(labels)))\n",
    "        \n",
    "        for i in labels:\n",
    "            TPFP_indices = np.nonzero(prediction_indices == i) # i로 예측한 값의 위치\n",
    "            TPFP = TPFP_indices[0].shape[0] # i로 예측한 값의 개수\n",
    "\n",
    "            TP_all = prediction_indices==target_indices # 예상과 정답이 일치하는 수\n",
    "            TP = np.sum(TP_all[TPFP_indices]) # TP_all 중 i값이 True 경우의 합\n",
    "\n",
    "            score_by_label[i] = TP / TPFP\n",
    "        score = np.mean(score_by_label)\n",
    "        \n",
    "        return score, score_by_label\n",
    "    \n",
    "    def recall(self, prediction_indices, target_indices):\n",
    "        \"\"\"Recall\n",
    "        \"\"\"\n",
    "        \n",
    "        # recall\n",
    "        labels = np.unique(target_indices)\n",
    "        score_by_label = np.zeros((len(labels)))\n",
    "        \n",
    "        for i in labels:\n",
    "            TPFN_indices = np.nonzero(target_indices == i) # i가 정답인 값의 위치\n",
    "            TPFN = TPFN_indices[0].shape[0]# 정답이 i인 값의 개수\n",
    "\n",
    "            TP_all = prediction_indices==target_indices # 예상과 정답이 일치하는 수\n",
    "            TP = np.sum(TP_all[TPFN_indices]) # TP_all 중 i값이 True 경우의 합\n",
    "\n",
    "            score_by_label[i] = TP / TPFN\n",
    "        score = np.mean(score_by_label)\n",
    "        \n",
    "        return score, score_by_label\n",
    "        \n",
    "    def f1_score(self, prediction_indices, target_indices):\n",
    "        \"\"\"F1 score\n",
    "        \"\"\"\n",
    "        \n",
    "        precision_score, _ = self.precision(prediction_indices, target_indices)\n",
    "        recall_score, _ = self.recall(prediction_indices, target_indices)\n",
    "        \n",
    "        return 2 / (1 / precision_score + 1 / recall_score)\n",
    "\n",
    "\n",
    "\n",
    "# Adam optimizer\n",
    "class Optimizers:\n",
    "    \"\"\"Optimizers\n",
    "    \n",
    "    Function list:\n",
    "        SGD\n",
    "        Adam\n",
    "    \"\"\"\n",
    "    \n",
    "    def __init__(self, fn_name:str='Adam'):\n",
    "        self.func = getattr(self, fn_name)\n",
    "    \n",
    "    def __call__(self, **kwargs):\n",
    "        return self.func(**kwargs)\n",
    "\n",
    "    def __str__(self):\n",
    "        return f\"Optimizer Function: {self.func.__name__}\"\n",
    "    \n",
    "        \n",
    "    class Adam:\n",
    "        \"\"\"Adam optimization algorithm\n",
    "        \"\"\"\n",
    "\n",
    "        def __init__(self, lr=0.001, betas=(0.9, 0.999), epsilon=1e-08):\n",
    "\n",
    "            self.t = 0\n",
    "            self.lr = lr\n",
    "            self.beta1 = betas[0]\n",
    "            self.beta2 = betas[1]\n",
    "            self.epsilon = epsilon\n",
    "            self.m = None\n",
    "            self.v = None\n",
    "\n",
    "\n",
    "        def update(self, parameters, gradients):\n",
    "            \"\"\"Update Parameters with Adam\n",
    "            \"\"\"\n",
    "            \n",
    "            if self.m == None:\n",
    "                self.m = {key: np.zeros_like(value) for key, value in gradients.items()}\n",
    "                self.v = {key: np.zeros_like(value) for key, value in gradients.items()}\n",
    "            \n",
    "            self.t += 1\n",
    "            \n",
    "            layers = len(parameters) // 2 # num of parameter layers\n",
    "            for L in range(1, layers+1):\n",
    "\n",
    "                gW = gradients[\"dW\" + str(L)]\n",
    "                gb = gradients[\"db\" + str(L)]\n",
    "                mW_prev = self.m[\"dW\" + str(L)]\n",
    "                mb_prev = self.m[\"db\" + str(L)]\n",
    "                vW_prev = self.v[\"dW\" + str(L)]\n",
    "                vb_prev = self.v[\"db\" + str(L)]\n",
    "\n",
    "                \n",
    "                mW = self.beta1 * mW_prev + (1-self.beta1) * gW\n",
    "                mb = self.beta1 * mb_prev + (1-self.beta1) * gb\n",
    "                mW_hat = mW / (1 - self.beta1 ** self.t)\n",
    "                mb_hat = mb / (1 - self.beta1 ** self.t)\n",
    "\n",
    "                vW = (self.beta2 * vW_prev + (1-self.beta2) * np.power(gW, 2))\n",
    "                vb = (self.beta2 * vb_prev + (1-self.beta2) * np.power(gb, 2))\n",
    "                vW_hat = vW / (1 - self.beta2 ** self.t)\n",
    "                vb_hat = vb / (1 - self.beta2 ** self.t)\n",
    "\n",
    "                # update\n",
    "                self.m[\"dW\" + str(L)] = mW\n",
    "                self.m[\"db\" + str(L)] = mb\n",
    "                self.v[\"dW\" + str(L)] = vW\n",
    "                self.v[\"db\" + str(L)] = vb\n",
    "                parameters[\"W\" + str(L)] -= self.lr * mW_hat / (np.sqrt(vW_hat) + self.epsilon)\n",
    "                parameters[\"b\" + str(L)] -= self.lr * mb_hat / (np.sqrt(vb_hat) + self.epsilon)\n",
    "\n",
    "            return parameters\n",
    "\n",
    "\n",
    "    # SGD(mini-batch) optimizer  \n",
    "    class SGD:\n",
    "        \"\"\"Stochastic Gradient Descent (mini-batch)\n",
    "        \"\"\"\n",
    "\n",
    "        def __init__(self, lr):\n",
    "            self.lr = lr\n",
    "\n",
    "        def update(self, parameters, gradients):\n",
    "            \"\"\"Update Parameters with SGD\n",
    "            \"\"\"\n",
    "            layers = len(parameters) // 2\n",
    "\n",
    "            for L in range(1, layers+1):\n",
    "                parameters[\"W\" + str(L)] -= self.lr * gradients[\"dW\" + str(L)]\n",
    "                parameters[\"b\" + str(L)] -= self.lr * gradients[\"db\" + str(L)]\n",
    "\n",
    "            return parameters\n",
    "\n",
    "\n",
    "def feed_forward(X, parameters, activation_fn): # \n",
    "    \"\"\"Feed forward\n",
    "    \n",
    "    미니 배치를 대상으로 피드 포워드를 진행한다.\n",
    "    \"\"\"\n",
    "    a_func = ActivationFunction(activation_fn[0])\n",
    "    a_func_last = ActivationFunction(activation_fn[1])\n",
    "    \n",
    "    cache = {\"a0\": X}\n",
    "    layers = len(parameters) // 2\n",
    "    for L in range(1, layers+1): # 1, 2, 3\n",
    "    \n",
    "        prev_a = cache[\"a\" + str(L-1)]\n",
    "        W = parameters[\"W\" + str(L)]\n",
    "        b = parameters[\"b\" + str(L)]\n",
    "\n",
    "        Z = np.matmul(prev_a, W) + b\n",
    "        \n",
    "        if L == layers: # 마지막 레이어에서 softmax\n",
    "            a = a_func_last(Z)\n",
    "        else:\n",
    "            a = a_func(Z)\n",
    "\n",
    "        cache[\"Z\" + str(L)] = Z\n",
    "        cache[\"a\" + str(L)] = a\n",
    "    \n",
    "    return a, cache\n",
    "\n",
    "\n",
    "def back_prop(prediction, Y, cache, parameters, activation_fn, loss_fn):\n",
    "    \"\"\"Back Propagation\n",
    "    \n",
    "    미니배치 단위로 피드포워드한 결과를 대상으로 backward 연산을 진행한다.\n",
    "    \"\"\"\n",
    "\n",
    "    d_a_func = ActivationFunction(activation_fn[0], derivative=True)\n",
    "    d_a_func_last = ActivationFunction(activation_fn[1], derivative=True)\n",
    "    \n",
    "    gradients = {}\n",
    "    layers = len(parameters) // 2\n",
    "    \n",
    "    for L in range(layers, 0, -1):\n",
    "        \n",
    "        Z = cache[\"Z\" + str(L)] # (bs, 10)\n",
    "        W = parameters[\"W\" + str(L)]\n",
    "        a = cache[\"a\" + str(L)]\n",
    "        a_prev = cache[\"a\" + str(L-1)]\n",
    "        \n",
    "        # 마지막 layer에서 activation에 대한 미분\n",
    "        if L == layers:\n",
    "            # Softmax에 대한 Cross Entropy 함수 미분\n",
    "            if activation_fn[1] == 'softmax' and loss_fn == 'categorical_cross_entropy':\n",
    "                a = prediction, Y\n",
    "                dZ = d_a_func_last(a) # (bs, 10)\n",
    "            \n",
    "            # sigmoid에 대한 z 미분\n",
    "            elif activation_fn[1] == 'sigmoid' and loss_fn == 'mse':\n",
    "                da = (prediction - Y) / prediction.shape[-1] # MSE에서 a에 대한 도함수 dE/da, (bs, 10)\n",
    "                dZ = da * d_a_func_last(Z)\n",
    "            \n",
    "            else:\n",
    "                raise Exception(\n",
    "                    \"You have to choose softmax-categorical_cross_entropy pair \\\n",
    "or sigmoid-mse pair only\"\n",
    "                )\n",
    "            \n",
    "        else: # leaky_relu 미분\n",
    "            dZ = da * d_a_func(Z) # (bs, 10)의 곱\n",
    "            \n",
    "        dW = np.einsum(\"ba,bz->baz\", a_prev, dZ) # (bs, 64)와 (bs, 10)의 외적 -> (bs, 64, 10)\n",
    "        db = dZ * 1 # dZ랑 같음\n",
    "        da = np.einsum(\"bz,wz->bw\", dZ, W) # (bs, 10)과 (64, 10)의 내적 -> (bs, 64)\n",
    "        \n",
    "        # 배치별 기울기값에 대한 평균값을 추가한다.\n",
    "        gradients[\"dW\" + str(L)] = np.mean(dW, axis=0)\n",
    "        gradients[\"db\" + str(L)] = np.mean(db, axis=0)\n",
    "    \n",
    "    return gradients\n",
    "\n",
    "\n",
    "def compute_loss(val_X, val_Y, parameters, activation_fn, loss_fn):\n",
    "    \"\"\"MSE\n",
    "    \n",
    "    미니 배치 단위 평균 loss를 구한다.\n",
    "    \"\"\"\n",
    "    l_func = LossFunction(loss_fn)\n",
    "    \n",
    "    return l_func(val_X, val_Y, parameters, activation_fn)\n",
    "\n",
    "\n",
    "def compute_evaluation(val_X, val_Y, parameters, activation_fn, eval_metric):\n",
    "    \"\"\"Compute Evaluation\n",
    "    \"\"\"\n",
    "    \n",
    "    # get prediction indices and target indices\n",
    "    prediction, _ = feed_forward(val_X, parameters, activation_fn)\n",
    "    prediction_indices = np.argmax(prediction, axis=1)\n",
    "    target_indices = np.argmax(val_Y, axis=1)\n",
    "    \n",
    "    # evaluate\n",
    "    evaluation_result = {eval_metric: {}}\n",
    "    evaluation_metric = Evaluation(eval_metric)\n",
    "    calc_result = evaluation_metric(prediction_indices, target_indices)\n",
    "\n",
    "    if isinstance(calc_result, np.float64):\n",
    "        evaluation_result[eval_metric]['score'] = calc_result\n",
    "\n",
    "    else:\n",
    "        evaluation_result[eval_metric]['score'] = calc_result[0]\n",
    "        evaluation_result[eval_metric]['score_by_label'] = calc_result[1]\n",
    "        \n",
    "    \n",
    "    return evaluation_result\n",
    "    \n",
    "\n",
    "def train(datasets, labels, model, val_size, epoch, batch_size, seed, shuffle, init_fn, activation_fn:list, loss_fn, optim, optim_args, eval_metric):\n",
    "    \"\"\"Train & validation\n",
    "    \"\"\"\n",
    "    \n",
    "    # init parameters\n",
    "    initializers = Initializers(init_fn)\n",
    "    parameters = initializers.initialize(model, seed=seed)\n",
    "    optimizer = Optimizers(optim)(**optim_args)\n",
    "    \n",
    "    # train validation split\n",
    "    train_X, train_Y, val_X, val_Y = train_validation_split(datasets, labels, val_size)\n",
    "    \n",
    "    # crawling loss and evaluation\n",
    "    train_loss_list = []\n",
    "    validation_loss_list = []\n",
    "    evaluation_list = []\n",
    "    best_eval_score = 0.0\n",
    "    for i in range(epoch):\n",
    "        \n",
    "        # split train data by batch size\n",
    "        train_X_datasets, train_Y_datasets = split_into_batches(train_X, train_Y, batch_size=batch_size, drop=True, seed=seed, shuffle=shuffle)\n",
    "        \n",
    "        # train iteration\n",
    "        for batches_X, batches_Y in zip(tqdm(train_X_datasets, leave=False), train_Y_datasets):\n",
    "            \n",
    "            # forward\n",
    "            prediction, cache = feed_forward(batches_X, parameters, activation_fn)\n",
    "            # backward\n",
    "            gradients = back_prop(prediction, batches_Y, cache, parameters, activation_fn, loss_fn)\n",
    "            # update\n",
    "            parameters = optimizer.update(parameters, gradients)\n",
    "        \n",
    "        # validate per epoch\n",
    "        # train_loss check\n",
    "        train_loss_list.append(compute_loss(train_X, train_Y, parameters, activation_fn, loss_fn)) # 예측연산이 내장되어 있음\n",
    "        # validation loss check\n",
    "        validation_loss_list.append(compute_loss(val_X, val_Y, parameters, activation_fn, loss_fn))\n",
    "        # evaluation\n",
    "        eval_result = compute_evaluation(val_X, val_Y, parameters, activation_fn, eval_metric)\n",
    "        evaluation_list.append(eval_result)\n",
    "    \n",
    "        \n",
    "        # update best eval score\n",
    "        curr_eval_score = eval_result[eval_metric]['score']\n",
    "        best_eval_score = curr_eval_score if curr_eval_score > best_eval_score else best_eval_score\n",
    "        \n",
    "        \n",
    "        # verbose\n",
    "        print(\n",
    "            f\"{str(i+1).zfill(3)} Epoch | \\\n",
    "train_loss: {train_loss_list[-1]:.6f} | \\\n",
    "val_loss: {validation_loss_list[-1]:.6f} | \\\n",
    "val_score: {evaluation_list[-1][eval_metric]['score']:.6f}\"\n",
    "        )\n",
    "\n",
    "    \n",
    "    history = {\n",
    "        \"train_loss\": train_loss_list, \n",
    "        \"valid_loss\": validation_loss_list, \n",
    "        \"evaluation\": evaluation_list,\n",
    "        \"best_score\": best_eval_score\n",
    "    }\n",
    "    \n",
    "    return history, parameters\n",
    "\n",
    "\n",
    "def predict(datasets, model, parameters, activation_fn):\n",
    "    \"\"\"Prediction\n",
    "    \"\"\"\n",
    "    \n",
    "    prediction, _ = feed_forward(datasets, parameters, activation_fn)\n",
    "    prediction_indices = np.argmax(prediction, axis=1).tolist()\n",
    "    \n",
    "    return prediction_indices\n",
    "\n",
    "\n",
    "\n",
    "\n",
    "# Load MNIST datasets\n",
    "train_set, test_set = load_data(path='mnist.npz')\n",
    "train_data, train_labels = train_set\n",
    "test_data, test_labels = test_set\n",
    "\n",
    "# One-hot encoder\n",
    "train_labels = one_hot_encoder(10, train_labels)\n",
    "test_labels = one_hot_encoder(10, test_labels)\n",
    "\n",
    "# Reshape 28 by 28 to 784\n",
    "train_data = train_data.reshape(-1, 28*28)\n",
    "test_data = test_data.reshape(-1, 28*28)\n",
    "\n",
    "# normalize\n",
    "train_data = train_data / 255\n",
    "test_data = test_data / 255\n",
    "\n",
    "# show details\n",
    "print(f\"Config details:\\n{'='*20}\\n\\n{OmegaConf.to_yaml(config)}{'='*20}\", end=\"\\n\\n\")\n",
    "\n",
    "# train (5,000 data)\n",
    "history, parameters = train(train_data, train_labels, **config)\n",
    "\n",
    "# prediction\n",
    "prediction = predict(test_data, config.model, parameters, config.activation_fn)\n",
    "\n",
    "\n",
    "# Visualize\n",
    "\n",
    "# loss\n",
    "train_loss = history['train_loss']\n",
    "valid_loss = history['valid_loss']\n",
    "\n",
    "plt.figure(figsize=(15, 5))\n",
    "plt.subplot(1, 2, 1)\n",
    "x_len = np.arange(1, len(train_loss)+1)\n",
    "plt.plot(x_len, train_loss, marker='.', c='blue', label=\"train_loss\")\n",
    "plt.plot(x_len, valid_loss, marker='.', c='red', label=\"valid_loss\")\n",
    "\n",
    "plt.title('Train_Validation Loss')\n",
    "plt.legend() # loc='upper right'\n",
    "plt.grid()\n",
    "plt.xlabel('epoch')\n",
    "plt.ylabel('loss')\n",
    "\n",
    "# evaluation\n",
    "metric = ''.join(history['evaluation'][0].keys())\n",
    "score = [history['evaluation'][i][metric]['score'] for i in range(len(history['evaluation']))]\n",
    "\n",
    "plt.subplot(1, 2, 2)\n",
    "plt.plot(x_len, score, marker='.', c='green', label=metric)\n",
    "\n",
    "plt.title('Evaluation Score')\n",
    "plt.legend() # loc='upper right'\n",
    "plt.grid()\n",
    "plt.xlabel('epoch')\n",
    "plt.ylabel('score')\n",
    "plt.show()\n"
   ]
  },
  {
   "cell_type": "markdown",
   "id": "f80dc7ac",
   "metadata": {},
   "source": [
    "---"
   ]
  }
 ],
 "metadata": {
  "hide_input": false,
  "kernelspec": {
   "display_name": "Python 3 (ipykernel)",
   "language": "python",
   "name": "python3"
  },
  "language_info": {
   "codemirror_mode": {
    "name": "ipython",
    "version": 3
   },
   "file_extension": ".py",
   "mimetype": "text/x-python",
   "name": "python",
   "nbconvert_exporter": "python",
   "pygments_lexer": "ipython3",
   "version": "3.8.11"
  },
  "toc": {
   "base_numbering": 1,
   "nav_menu": {},
   "number_sections": true,
   "sideBar": true,
   "skip_h1_title": false,
   "title_cell": "Table of Contents",
   "title_sidebar": "Contents",
   "toc_cell": false,
   "toc_position": {},
   "toc_section_display": true,
   "toc_window_display": false
  },
  "varInspector": {
   "cols": {
    "lenName": 16,
    "lenType": 16,
    "lenVar": 40
   },
   "kernels_config": {
    "python": {
     "delete_cmd_postfix": "",
     "delete_cmd_prefix": "del ",
     "library": "var_list.py",
     "varRefreshCmd": "print(var_dic_list())"
    },
    "r": {
     "delete_cmd_postfix": ") ",
     "delete_cmd_prefix": "rm(",
     "library": "var_list.r",
     "varRefreshCmd": "cat(var_dic_list()) "
    }
   },
   "types_to_exclude": [
    "module",
    "function",
    "builtin_function_or_method",
    "instance",
    "_Feature"
   ],
   "window_display": false
  }
 },
 "nbformat": 4,
 "nbformat_minor": 5
}
